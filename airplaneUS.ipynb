{
 "cells": [
  {
   "cell_type": "code",
   "execution_count": null,
   "id": "ca7d4ab2-a697-4507-b7cb-f47cb095bc65",
   "metadata": {
    "scrolled": true
   },
   "outputs": [],
   "source": [
    "!pip install nbformat plotly"
   ]
  },
  {
   "cell_type": "code",
   "execution_count": null,
   "id": "50a97b6e-b6fe-4e82-9ef8-783568b6c13f",
   "metadata": {},
   "outputs": [],
   "source": [
    "\n",
    "import pandas as pd\n",
    "import numpy as np\n",
    "import plotly.express as px\n",
    "import plotly.graph_objects as go"
   ]
  },
  {
   "cell_type": "code",
   "execution_count": null,
   "id": "cc2bf57b-7568-4a18-877a-fda7faab8924",
   "metadata": {},
   "outputs": [],
   "source": [
    "# Read the airline data into pandas dataframe\n",
    "\n",
    "\n",
    "df = pd.read_csv('https://cf-courses-data.s3.us.cloud-object-storage.appdomain.cloud/IBMDeveloperSkillsNetwork-DV0101EN-SkillsNetwork/Data%20Files/airline_data.csv')\n"
   ]
  },
  {
   "cell_type": "code",
   "execution_count": null,
   "id": "cd652a3a-6730-415d-8987-fd9b8d874c28",
   "metadata": {
    "scrolled": true
   },
   "outputs": [],
   "source": [
    "df"
   ]
  },
  {
   "cell_type": "code",
   "execution_count": null,
   "id": "473041a6-4b96-4f61-b693-cf2d99491e17",
   "metadata": {},
   "outputs": [],
   "source": [
    "df.info()\n"
   ]
  },
  {
   "cell_type": "code",
   "execution_count": null,
   "id": "a8a4e3d9-4fec-40ec-9c4c-c36ddfb16c71",
   "metadata": {},
   "outputs": [],
   "source": [
    "df.shape"
   ]
  },
  {
   "cell_type": "code",
   "execution_count": null,
   "id": "5ae68125-2779-4a39-87d6-37a20a669d80",
   "metadata": {},
   "outputs": [],
   "source": [
    "df.isnull().sum()"
   ]
  },
  {
   "cell_type": "code",
   "execution_count": null,
   "id": "87f221cd-5809-45b3-84b6-d8b6e529d239",
   "metadata": {},
   "outputs": [],
   "source": [
    "df = df.dropna(axis = 1, how = 'all')"
   ]
  },
  {
   "cell_type": "code",
   "execution_count": null,
   "id": "47ef7fc3-2802-424a-bd9e-d06c32a4c800",
   "metadata": {},
   "outputs": [],
   "source": [
    "df.isnull().sum()"
   ]
  },
  {
   "cell_type": "code",
   "execution_count": null,
   "id": "60dda5de-c02c-4b08-8e8a-842f35251a3f",
   "metadata": {},
   "outputs": [],
   "source": [
    "threshold = 0.8  # Set percentage threshold (80%)\n",
    "df = df.dropna(axis=1, thresh=int(threshold * len(df)))\n",
    "df.isnull().sum()"
   ]
  },
  {
   "cell_type": "code",
   "execution_count": null,
   "id": "9d594a19-a286-42de-82a6-12d37081c312",
   "metadata": {},
   "outputs": [],
   "source": [
    "fig1 = go.Figure()\n",
    "fig1.add_trace(go.Scatter(x = df['Distance'], y = df['DepTime'], mode = 'markers', marker = dict(color='red')))\n",
    "fig1.update_layout(title = 'Distance vs Departure Time', xaxis_title = 'Distance' , yaxis_title = 'Departure Time')"
   ]
  },
  {
   "cell_type": "markdown",
   "id": "65ea272e-c655-4015-9c73-e401b19fafb3",
   "metadata": {},
   "source": [
    "For shorter distance, there are lots of flights round the clock. But longer flights mostly depart around 10 am to 8pm "
   ]
  },
  {
   "cell_type": "markdown",
   "id": "3d63fab7-dcc0-49c8-b20d-85bbd5aa14bd",
   "metadata": {},
   "source": [
    "now a line plot to extract average monthly arrival delay time and see how it changes over the year."
   ]
  },
  {
   "cell_type": "code",
   "execution_count": null,
   "id": "9d5bc360-2e66-4259-b629-f33477a0c6ac",
   "metadata": {},
   "outputs": [],
   "source": [
    "mon_arr_del = df.groupby('Month')['ArrDelay'].mean().reset_index()\n",
    "mon_arr_del"
   ]
  },
  {
   "cell_type": "code",
   "execution_count": null,
   "id": "2b994d5e-e05c-459f-81c9-1ff5a11d94c2",
   "metadata": {},
   "outputs": [],
   "source": [
    "fig2 = go.Figure()\n",
    "fig2.add_trace(go.Scatter(x = mon_arr_del['Month'], y = mon_arr_del['ArrDelay'], mode = 'lines', marker = dict(color = 'green')))\n",
    "fig2.update_layout(title = 'Monhtly Average Arrival Delay', xaxis_title = 'Month', yaxis_title = 'Arrival Delay')\n",
    "fig2.show()"
   ]
  },
  {
   "cell_type": "markdown",
   "id": "ec65b860-e941-4454-8529-cf4c540f429f",
   "metadata": {},
   "source": [
    "June faces the highest delay in arrival while September shows the lowest."
   ]
  },
  {
   "cell_type": "markdown",
   "id": "c8d52a56-54d8-40f7-a2a8-fa9c82d73577",
   "metadata": {},
   "source": [
    "a bar chart to extract number of flights from a specific airline that goes to a destination"
   ]
  },
  {
   "cell_type": "code",
   "execution_count": null,
   "id": "169b4130-aa05-4c58-9e15-5b1d7ec8127a",
   "metadata": {},
   "outputs": [],
   "source": [
    "dest_flight = df.groupby('DestState')['Flights'].sum().reset_index()\n",
    "dest_flight"
   ]
  },
  {
   "cell_type": "code",
   "execution_count": null,
   "id": "31345dce-8c2d-4bee-a97a-6f58efb855e1",
   "metadata": {},
   "outputs": [],
   "source": [
    "fig3 = px.bar(dest_flight, x=dest_flight['DestState'], y = dest_flight['Flights'], title = 'Number of flights to the destination states')\n",
    "fig3.show()"
   ]
  },
  {
   "cell_type": "markdown",
   "id": "891a72ad-c9fb-4bf9-8a73-19971ab92873",
   "metadata": {},
   "source": [
    "California and Texas has most number of flights as destination"
   ]
  },
  {
   "cell_type": "markdown",
   "id": "f1a8e0ff-fea5-44c9-8bdd-a98530f452f1",
   "metadata": {},
   "source": [
    " the distribution of arrival delay using a histogram"
   ]
  },
  {
   "cell_type": "code",
   "execution_count": null,
   "id": "4fb5e9df-14d5-4268-ba56-cee8ebaef51c",
   "metadata": {},
   "outputs": [],
   "source": [
    "df['ArrDelay'] = df['ArrDelay'].fillna(0)"
   ]
  },
  {
   "cell_type": "code",
   "execution_count": null,
   "id": "d82a8f5a-94f7-4165-a5b1-0b578c1ae0ad",
   "metadata": {},
   "outputs": [],
   "source": [
    "fig4 = px.histogram(df, x = df['ArrDelay'])\n",
    "fig4.show()"
   ]
  },
  {
   "cell_type": "markdown",
   "id": "656fc319-7143-4087-a717-2a1468fd6e97",
   "metadata": {},
   "source": [
    "There were 290 flights which were 22-23 minutes late,67 flights were 1 hr late.\n"
   ]
  },
  {
   "cell_type": "markdown",
   "id": "300df5f0-5c6e-4622-96fc-e69376a6f801",
   "metadata": {},
   "source": [
    " bubble plot to represent number of flights as per reporting airline\n",
    " "
   ]
  },
  {
   "cell_type": "code",
   "execution_count": null,
   "id": "30a237f8-7077-4cf8-93b0-a1b334212b35",
   "metadata": {},
   "outputs": [],
   "source": [
    "flight_air = df.groupby('Reporting_Airline')['Flights'].sum().reset_index()\n",
    "flight_air"
   ]
  },
  {
   "cell_type": "code",
   "execution_count": null,
   "id": "0306148d-7d3e-4550-b2f1-b20edf200af4",
   "metadata": {},
   "outputs": [],
   "source": [
    "fig5 = px.scatter(flight_air, x=flight_air['Reporting_Airline'], y = flight_air['Flights'], hover_name = 'Reporting_Airline', size = flight_air['Flights'])\n",
    "fig5.show()"
   ]
  },
  {
   "cell_type": "markdown",
   "id": "eef859d9-545c-46d0-ade9-8ad7f4537004",
   "metadata": {},
   "source": [
    "**WN** has the highest number of flights which is around 4186\n"
   ]
  },
  {
   "cell_type": "markdown",
   "id": "d044f5af-e244-40f4-8e56-60b356945214",
   "metadata": {},
   "source": [
    "proportion of Flights by Distance Group (Flights indicated by numbers) in pie chart"
   ]
  },
  {
   "cell_type": "code",
   "execution_count": null,
   "id": "0d43d679-de49-4018-a6ec-6ae7eca13753",
   "metadata": {},
   "outputs": [],
   "source": [
    "fig6 = px.pie(values = df['Flights'], names = df['DistanceGroup'], title = 'Flight proportion by Distance Group')\n",
    "fig6.show()"
   ]
  },
  {
   "cell_type": "markdown",
   "id": "43e2fdf5-bd42-40c5-a3f7-9ef3a3e59824",
   "metadata": {},
   "source": [
    "Distance group 2 has the highest flight proportion."
   ]
  },
  {
   "cell_type": "markdown",
   "id": "6dae0c7e-7711-4c37-96ff-a98545014aaf",
   "metadata": {},
   "source": [
    " the hierarchical view in othe order of month and destination state holding value of number of flights in Sunburst plot"
   ]
  },
  {
   "cell_type": "code",
   "execution_count": null,
   "id": "f8999884-e90f-4c72-aa33-2629c7dbd357",
   "metadata": {},
   "outputs": [],
   "source": [
    "fig7 = px.sunburst(df, path = ['Month', 'DestStateName'], values = df['Flights'], title = 'Flight Distribution Hierarchy')\n",
    "fig7.show()"
   ]
  },
  {
   "cell_type": "code",
   "execution_count": null,
   "id": "e5a8cdb9-d735-4e21-bd7d-1b014d1bb60b",
   "metadata": {},
   "outputs": [],
   "source": [
    "print(df[['Month', 'DestStateName']].isna().sum())\n"
   ]
  },
  {
   "cell_type": "code",
   "execution_count": null,
   "id": "fdc44a81-0516-4c6f-8a69-f75d5fecc11f",
   "metadata": {},
   "outputs": [],
   "source": [
    "df = df.dropna(subset=['DestStateName'])\n"
   ]
  },
  {
   "cell_type": "code",
   "execution_count": null,
   "id": "99044fa1-e4fc-4430-992b-9927859fda19",
   "metadata": {},
   "outputs": [],
   "source": [
    "print(df[['Month', 'DestStateName']].isna().sum())\n"
   ]
  },
  {
   "cell_type": "code",
   "execution_count": null,
   "id": "b32dec8e-8ded-40d8-86bd-83b5a8c50b2c",
   "metadata": {},
   "outputs": [],
   "source": [
    "fig7 = px.sunburst(df, path = ['Month', 'DestStateName'], values = df['Flights'], title = 'Flight Distribution Hierarchy')\n",
    "fig7.show()"
   ]
  },
  {
   "cell_type": "markdown",
   "id": "c697d91c-ccf1-484c-83ea-cb0b1e07a71b",
   "metadata": {},
   "source": [
    "Most of the flights are in December and most popular popular destination in that month is California"
   ]
  },
  {
   "cell_type": "code",
   "execution_count": null,
   "id": "c7975c0a-f690-41b8-9e36-fe6a8982e587",
   "metadata": {},
   "outputs": [],
   "source": []
  }
 ],
 "metadata": {
  "kernelspec": {
   "display_name": "Python 3 (ipykernel)",
   "language": "python",
   "name": "python3"
  },
  "language_info": {
   "codemirror_mode": {
    "name": "ipython",
    "version": 3
   },
   "file_extension": ".py",
   "mimetype": "text/x-python",
   "name": "python",
   "nbconvert_exporter": "python",
   "pygments_lexer": "ipython3",
   "version": "3.13.2"
  }
 },
 "nbformat": 4,
 "nbformat_minor": 5
}
